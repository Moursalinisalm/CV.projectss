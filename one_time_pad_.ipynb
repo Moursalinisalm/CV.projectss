{
  "nbformat": 4,
  "nbformat_minor": 0,
  "metadata": {
    "colab": {
      "provenance": [],
      "toc_visible": true,
      "authorship_tag": "ABX9TyOTjwLoe39DPVwzoPN2X6g+",
      "include_colab_link": true
    },
    "kernelspec": {
      "name": "python3",
      "display_name": "Python 3"
    },
    "language_info": {
      "name": "python"
    }
  },
  "cells": [
    {
      "cell_type": "markdown",
      "metadata": {
        "id": "view-in-github",
        "colab_type": "text"
      },
      "source": [
        "<a href=\"https://colab.research.google.com/github/Moursalinisalm/CV.projectss/blob/main/one_time_pad_.ipynb\" target=\"_parent\"><img src=\"https://colab.research.google.com/assets/colab-badge.svg\" alt=\"Open In Colab\"/></a>"
      ]
    },
    {
      "cell_type": "code",
      "execution_count": 1,
      "metadata": {
        "colab": {
          "base_uri": "https://localhost:8080/"
        },
        "id": "eM9JYXXD-a5v",
        "outputId": "2b3ba4f0-891b-467b-bc12-3b56c005eebe"
      },
      "outputs": [
        {
          "output_type": "stream",
          "name": "stdout",
          "text": [
            "Original Message:  OTP Example\n",
            "Generated Key (in bytes):  [193, 83, 223, 134, 187, 242, 0, 139, 129, 154, 173]\n",
            "Ciphertext (in bytes):  [142, 7, 143, 166, 254, 138, 97, 230, 241, 246, 200]\n",
            "Decrypted Message:  OTP Example\n"
          ]
        }
      ],
      "source": [
        "import os\n",
        "\n",
        "# Function to generate a random key using os.urandom\n",
        "def generate_key(length):\n",
        "    return os.urandom(length)\n",
        "\n",
        "# Function to encrypt the message\n",
        "def encrypt(message, key):\n",
        "    return bytes([m ^ k for m, k in zip(message, key)])\n",
        "\n",
        "# Function to decrypt the ciphertext\n",
        "def decrypt(ciphertext, key):\n",
        "    return bytes([c ^ k for c, k in zip(ciphertext, key)])\n",
        "\n",
        "# Input message\n",
        "message = \"OTP Example\".encode()  # Convert string to bytes\n",
        "\n",
        "# Generate a random key\n",
        "key = generate_key(len(message))\n",
        "\n",
        "# Encrypt the message\n",
        "ciphertext = encrypt(message, key)\n",
        "\n",
        "# Decrypt the ciphertext\n",
        "decrypted_message = decrypt(ciphertext, key).decode()  # Convert bytes back to string\n",
        "\n",
        "# Print the results\n",
        "print(\"Original Message: \", message.decode())\n",
        "print(\"Generated Key (in bytes): \", list(key))\n",
        "print(\"Ciphertext (in bytes): \", list(ciphertext))\n",
        "print(\"Decrypted Message: \", decrypted_message)"
      ]
    }
  ]
}