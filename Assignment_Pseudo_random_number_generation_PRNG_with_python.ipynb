{
  "nbformat": 4,
  "nbformat_minor": 0,
  "metadata": {
    "colab": {
      "provenance": [],
      "authorship_tag": "ABX9TyMDDeBwWq7KgOOBV1kIdBQs",
      "include_colab_link": true
    },
    "kernelspec": {
      "name": "python3",
      "display_name": "Python 3"
    },
    "language_info": {
      "name": "python"
    }
  },
  "cells": [
    {
      "cell_type": "markdown",
      "metadata": {
        "id": "view-in-github",
        "colab_type": "text"
      },
      "source": [
        "<a href=\"https://colab.research.google.com/github/Moursalinisalm/CV.projectss/blob/main/Assignment_Pseudo_random_number_generation_PRNG_with_python.ipynb\" target=\"_parent\"><img src=\"https://colab.research.google.com/assets/colab-badge.svg\" alt=\"Open In Colab\"/></a>"
      ]
    },
    {
      "cell_type": "code",
      "execution_count": 10,
      "metadata": {
        "colab": {
          "base_uri": "https://localhost:8080/"
        },
        "id": "ARNTBAjg1ZO4",
        "outputId": "74da1221-33c7-4bff-d618-fe973b013cd2"
      },
      "outputs": [
        {
          "output_type": "stream",
          "name": "stdout",
          "text": [
            "Generating 7 random numbers:\n",
            "19\n",
            "27\n",
            "28\n",
            "6\n",
            "14\n",
            "16\n",
            "22\n",
            "\n",
            "Generating 7 more random numbers:\n",
            "17\n",
            "24\n",
            "18\n",
            "13\n",
            "25\n",
            "16\n",
            "25\n",
            "\n",
            "Restoring state and generating the same 7 random numbers:\n",
            "17\n",
            "24\n",
            "18\n",
            "13\n",
            "25\n",
            "16\n",
            "25\n"
          ]
        }
      ],
      "source": [
        "import random\n",
        "\n",
        "# Set the seed for reproducibility\n",
        "random.seed(53)\n",
        "\n",
        "# Generate and print five random numbers, storing the state after each\n",
        "print(\"Generating 7 random numbers:\")\n",
        "for _ in range(7):\n",
        "    random_number = random.randrange(0, 30)\n",
        "    print(random_number)\n",
        "\n",
        "# Get the current state of the random number generator\n",
        "state = random.getstate()\n",
        "\n",
        "# Generate and print another five random numbers\n",
        "print(\"\\nGenerating 7 more random numbers:\")\n",
        "for _ in range(7):\n",
        "    random_number = random.randrange(2, 30)\n",
        "    print(random_number)\n",
        "\n",
        "# Restore the state of the random number generator\n",
        "random.setstate(state)\n",
        "\n",
        "# Generate and print the random numbers again with the restored state\n",
        "print(\"\\nRestoring state and generating the same 7 random numbers:\")\n",
        "for _ in range(7):\n",
        "    random_number = random.randrange(2, 30)\n",
        "    print(random_number)\n",
        ""
      ]
    },
    {
      "cell_type": "markdown",
      "source": [
        "The random module in Python may be used to create repeating random number sequences, as this code illustrates. It begins by setting a seed (random.seed(53)) for reproducibility, which guarantees that the produced number sequence is consistent across code executions. After producing five random integers between 2 and 30, random.getstate() is used to save the random generator's current state. Five more numbers are then produced, which are different from the initial set. The code can reproduce the original sequence by using random.setstate(state) to restore the saved state. This demonstrates how reproducing the same random numbers is possible when a saved state is restored."
      ],
      "metadata": {
        "id": "9DDnIhXkL4uF"
      }
    },
    {
      "cell_type": "markdown",
      "source": [
        "# New Section"
      ],
      "metadata": {
        "id": "GabaGmKUOIRX"
      }
    },
    {
      "cell_type": "code",
      "source": [
        "from google.colab import drive\n",
        "drive.mount('/content/drive')"
      ],
      "metadata": {
        "id": "DgMr3oGDOMZK"
      },
      "execution_count": null,
      "outputs": []
    },
    {
      "cell_type": "markdown",
      "source": [
        "# New Section"
      ],
      "metadata": {
        "id": "1LDoow9uOTSu"
      }
    }
  ]
}